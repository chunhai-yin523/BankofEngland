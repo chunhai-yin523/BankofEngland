{
 "cells": [
  {
   "cell_type": "markdown",
   "id": "5f452255",
   "metadata": {},
   "source": [
    "### import data"
   ]
  },
  {
   "cell_type": "code",
   "execution_count": 197,
   "id": "7889da98",
   "metadata": {},
   "outputs": [],
   "source": [
    "import pandas as pd\n",
    "import numpy as np\n",
    "import matplotlib.pyplot as plt\n",
    "\n",
    "df1 = pd.read_excel('Data1.xlsx', index_col=0, header=[0,1]) # 325 X 40\n",
    "df2 = pd.read_excel('Data2.xlsx', index_col=0, header=[0,1]) # 325 X 45\n",
    "\n",
    "# merge data frames\n",
    "df = df1.merge(df2, left_index=True, right_index=True) # 325 X 85"
   ]
  },
  {
   "cell_type": "markdown",
   "id": "83614854",
   "metadata": {},
   "source": [
    "### prepare data"
   ]
  },
  {
   "cell_type": "code",
   "execution_count": 198,
   "id": "26df5ba1",
   "metadata": {},
   "outputs": [],
   "source": [
    "# create a new item NWP/GWP\n",
    "df_nwp = df['NWP (£m) ']\n",
    "df_gwp = df['GWP (£m)']\n",
    "df_nwp_gwp = df_nwp / df_gwp\n",
    "df_nwp_gwp.columns = [['NWP_GWP', 'NWP_GWP','NWP_GWP','NWP_GWP','NWP_GWP'],['2016YE', '2017YE','2018YE','2019YE','2020YE']]"
   ]
  },
  {
   "cell_type": "code",
   "execution_count": 199,
   "id": "cfad72cd",
   "metadata": {},
   "outputs": [],
   "source": [
    "# merge with df\n",
    "df = df.merge(df_nwp_gwp, left_index=True, right_index=True) # 325 X 90"
   ]
  },
  {
   "cell_type": "code",
   "execution_count": 200,
   "id": "68a1e090",
   "metadata": {},
   "outputs": [
    {
     "name": "stdout",
     "output_type": "stream",
     "text": [
      "True\n"
     ]
    }
   ],
   "source": [
    "check_for_nan = df.isnull().values.any()\n",
    "print (check_for_nan)\n",
    "df = df.fillna(0)"
   ]
  },
  {
   "cell_type": "code",
   "execution_count": 201,
   "id": "710be088",
   "metadata": {},
   "outputs": [
    {
     "data": {
      "text/plain": [
       "('NWP (£m) ',\n",
       " 'SCR (£m)',\n",
       " 'EoF for SCR (£m)',\n",
       " 'SCR coverage ratio',\n",
       " 'GWP (£m)',\n",
       " 'Total assets (£m)',\n",
       " 'Total liabilities (£m)',\n",
       " 'Excess of assets over liabilities (£m) [= equity]',\n",
       " 'Gross claims incurred (£m)',\n",
       " 'Gross BEL (inc. TPs as whole, pre-TMTP) (£m)',\n",
       " 'Net BEL (inc. TPs as a whole, pre-TMTP) (£m)',\n",
       " 'Pure net claims ratio',\n",
       " 'Net expense ratio',\n",
       " 'Net combined ratio',\n",
       " 'Pure gross claims ratio',\n",
       " 'Gross expense ratio',\n",
       " 'Gross combined ratio',\n",
       " 'NWP_GWP')"
      ]
     },
     "execution_count": 201,
     "metadata": {},
     "output_type": "execute_result"
    }
   ],
   "source": [
    "# get item list\n",
    "item_list = []\n",
    "for i in range(len(df.columns)):\n",
    "    if df.columns[i][0] not in item_list:\n",
    "        item_list.append(df.columns[i][0])\n",
    "    \n",
    "item_list = tuple(item_list)\n",
    "item_list"
   ]
  },
  {
   "cell_type": "markdown",
   "id": "e19738e2",
   "metadata": {},
   "source": [
    "### clean data"
   ]
  },
  {
   "cell_type": "code",
   "execution_count": 202,
   "id": "9d20cc6c",
   "metadata": {},
   "outputs": [],
   "source": [
    "# delete rows with more than 3 zeros or year 2020 has 0 value in the column of interest\n",
    "def clean_column(df, column_name):\n",
    "    col = column_name\n",
    "    for index in df.index:\n",
    "        unique = df[[col]].loc[index].nunique()\n",
    "        percentage = float(unique) / len(df[[col]].loc[index])\n",
    "        if percentage < 0.8 or df[[col]].loc[index][-1] == 0.0:\n",
    "            print ('Deleted: ', index, df[[col]].loc[index])\n",
    "            df.drop(index, axis=0, inplace=True)\n",
    "    return df"
   ]
  },
  {
   "cell_type": "code",
   "execution_count": 211,
   "id": "f92469b5",
   "metadata": {},
   "outputs": [
    {
     "data": {
      "text/html": [
       "<div>\n",
       "<style scoped>\n",
       "    .dataframe tbody tr th:only-of-type {\n",
       "        vertical-align: middle;\n",
       "    }\n",
       "\n",
       "    .dataframe tbody tr th {\n",
       "        vertical-align: top;\n",
       "    }\n",
       "\n",
       "    .dataframe thead tr th {\n",
       "        text-align: left;\n",
       "    }\n",
       "</style>\n",
       "<table border=\"1\" class=\"dataframe\">\n",
       "  <thead>\n",
       "    <tr>\n",
       "      <th></th>\n",
       "      <th colspan=\"5\" halign=\"left\">NWP (£m)</th>\n",
       "      <th colspan=\"5\" halign=\"left\">SCR (£m)</th>\n",
       "      <th>...</th>\n",
       "      <th colspan=\"5\" halign=\"left\">Gross combined ratio</th>\n",
       "      <th colspan=\"5\" halign=\"left\">NWP_GWP</th>\n",
       "    </tr>\n",
       "    <tr>\n",
       "      <th></th>\n",
       "      <th>2016YE</th>\n",
       "      <th>2017YE</th>\n",
       "      <th>2018YE</th>\n",
       "      <th>2019YE</th>\n",
       "      <th>2020YE</th>\n",
       "      <th>2016YE</th>\n",
       "      <th>2017YE</th>\n",
       "      <th>2018YE</th>\n",
       "      <th>2019YE</th>\n",
       "      <th>2020YE</th>\n",
       "      <th>...</th>\n",
       "      <th>2016YE</th>\n",
       "      <th>2017YE</th>\n",
       "      <th>2018YE</th>\n",
       "      <th>2019YE</th>\n",
       "      <th>2020YE</th>\n",
       "      <th>2016YE</th>\n",
       "      <th>2017YE</th>\n",
       "      <th>2018YE</th>\n",
       "      <th>2019YE</th>\n",
       "      <th>2020YE</th>\n",
       "    </tr>\n",
       "  </thead>\n",
       "  <tbody>\n",
       "    <tr>\n",
       "      <th>Firm 210</th>\n",
       "      <td>27889.340758</td>\n",
       "      <td>38199.311256</td>\n",
       "      <td>48117.993733</td>\n",
       "      <td>44638.769640</td>\n",
       "      <td>40135.692258</td>\n",
       "      <td>156.356311</td>\n",
       "      <td>253.133517</td>\n",
       "      <td>267.587277</td>\n",
       "      <td>342.361395</td>\n",
       "      <td>418.388173</td>\n",
       "      <td>...</td>\n",
       "      <td>0.871992</td>\n",
       "      <td>1.105867</td>\n",
       "      <td>0.969446</td>\n",
       "      <td>0.883016</td>\n",
       "      <td>0.998139</td>\n",
       "      <td>1.000000</td>\n",
       "      <td>1.000000</td>\n",
       "      <td>1.000000</td>\n",
       "      <td>1.000000</td>\n",
       "      <td>1.000000</td>\n",
       "    </tr>\n",
       "    <tr>\n",
       "      <th>Firm 4</th>\n",
       "      <td>22344.199923</td>\n",
       "      <td>23963.910709</td>\n",
       "      <td>25760.390158</td>\n",
       "      <td>25512.748836</td>\n",
       "      <td>24996.021042</td>\n",
       "      <td>16573.644800</td>\n",
       "      <td>16332.748800</td>\n",
       "      <td>17103.616000</td>\n",
       "      <td>17219.246080</td>\n",
       "      <td>19600.262144</td>\n",
       "      <td>...</td>\n",
       "      <td>0.848032</td>\n",
       "      <td>1.474778</td>\n",
       "      <td>1.727968</td>\n",
       "      <td>1.208823</td>\n",
       "      <td>-10.736084</td>\n",
       "      <td>0.759372</td>\n",
       "      <td>0.727603</td>\n",
       "      <td>0.718207</td>\n",
       "      <td>0.706031</td>\n",
       "      <td>0.715753</td>\n",
       "    </tr>\n",
       "    <tr>\n",
       "      <th>Firm 26</th>\n",
       "      <td>45309.838702</td>\n",
       "      <td>7239.360829</td>\n",
       "      <td>7616.755563</td>\n",
       "      <td>10450.175547</td>\n",
       "      <td>10489.248083</td>\n",
       "      <td>13.010998</td>\n",
       "      <td>2615.457124</td>\n",
       "      <td>2647.668242</td>\n",
       "      <td>2719.948271</td>\n",
       "      <td>2369.903562</td>\n",
       "      <td>...</td>\n",
       "      <td>0.829502</td>\n",
       "      <td>1.017688</td>\n",
       "      <td>0.879597</td>\n",
       "      <td>0.941402</td>\n",
       "      <td>0.948690</td>\n",
       "      <td>1.000000</td>\n",
       "      <td>1.000000</td>\n",
       "      <td>1.000000</td>\n",
       "      <td>1.000000</td>\n",
       "      <td>1.000000</td>\n",
       "    </tr>\n",
       "    <tr>\n",
       "      <th>Firm 247</th>\n",
       "      <td>13377.534020</td>\n",
       "      <td>24031.377272</td>\n",
       "      <td>22475.773945</td>\n",
       "      <td>10624.480076</td>\n",
       "      <td>9961.520679</td>\n",
       "      <td>6.679933</td>\n",
       "      <td>28.699002</td>\n",
       "      <td>14.423490</td>\n",
       "      <td>10.398542</td>\n",
       "      <td>10.106735</td>\n",
       "      <td>...</td>\n",
       "      <td>0.585406</td>\n",
       "      <td>0.321478</td>\n",
       "      <td>0.290755</td>\n",
       "      <td>0.262802</td>\n",
       "      <td>0.366671</td>\n",
       "      <td>0.984380</td>\n",
       "      <td>0.992923</td>\n",
       "      <td>0.990343</td>\n",
       "      <td>1.000000</td>\n",
       "      <td>1.000000</td>\n",
       "    </tr>\n",
       "    <tr>\n",
       "      <th>Firm 34</th>\n",
       "      <td>6817.399238</td>\n",
       "      <td>5780.781140</td>\n",
       "      <td>4497.979967</td>\n",
       "      <td>-181.612136</td>\n",
       "      <td>8145.617320</td>\n",
       "      <td>70.971011</td>\n",
       "      <td>7076.519747</td>\n",
       "      <td>6783.113294</td>\n",
       "      <td>6328.086220</td>\n",
       "      <td>6443.117305</td>\n",
       "      <td>...</td>\n",
       "      <td>0.000000</td>\n",
       "      <td>2.819749</td>\n",
       "      <td>1.235272</td>\n",
       "      <td>1.043209</td>\n",
       "      <td>1.635144</td>\n",
       "      <td>0.777133</td>\n",
       "      <td>0.460618</td>\n",
       "      <td>0.261289</td>\n",
       "      <td>-0.008761</td>\n",
       "      <td>0.397139</td>\n",
       "    </tr>\n",
       "    <tr>\n",
       "      <th>Firm 105</th>\n",
       "      <td>31275.650872</td>\n",
       "      <td>11614.626226</td>\n",
       "      <td>-78.413307</td>\n",
       "      <td>10739.237658</td>\n",
       "      <td>4641.248617</td>\n",
       "      <td>154.592562</td>\n",
       "      <td>13872.860127</td>\n",
       "      <td>8970.442719</td>\n",
       "      <td>9390.562212</td>\n",
       "      <td>9637.507832</td>\n",
       "      <td>...</td>\n",
       "      <td>0.811751</td>\n",
       "      <td>0.982502</td>\n",
       "      <td>0.920198</td>\n",
       "      <td>0.942037</td>\n",
       "      <td>0.903999</td>\n",
       "      <td>0.980790</td>\n",
       "      <td>0.896902</td>\n",
       "      <td>-0.006083</td>\n",
       "      <td>0.980164</td>\n",
       "      <td>0.798610</td>\n",
       "    </tr>\n",
       "    <tr>\n",
       "      <th>Firm 311</th>\n",
       "      <td>-1862.240506</td>\n",
       "      <td>9777.534671</td>\n",
       "      <td>12009.157860</td>\n",
       "      <td>12719.398352</td>\n",
       "      <td>10830.966262</td>\n",
       "      <td>0.971873</td>\n",
       "      <td>8883.247499</td>\n",
       "      <td>7935.936281</td>\n",
       "      <td>7918.799911</td>\n",
       "      <td>8655.247077</td>\n",
       "      <td>...</td>\n",
       "      <td>0.000000</td>\n",
       "      <td>0.000000</td>\n",
       "      <td>1.002591</td>\n",
       "      <td>0.871170</td>\n",
       "      <td>0.918942</td>\n",
       "      <td>-0.842274</td>\n",
       "      <td>0.850692</td>\n",
       "      <td>0.725460</td>\n",
       "      <td>0.669849</td>\n",
       "      <td>0.564701</td>\n",
       "    </tr>\n",
       "    <tr>\n",
       "      <th>Firm 7</th>\n",
       "      <td>5855.172823</td>\n",
       "      <td>11688.570412</td>\n",
       "      <td>9414.976495</td>\n",
       "      <td>10975.189662</td>\n",
       "      <td>8359.905292</td>\n",
       "      <td>0.000000</td>\n",
       "      <td>4042.827472</td>\n",
       "      <td>4313.755092</td>\n",
       "      <td>4106.815583</td>\n",
       "      <td>4497.938625</td>\n",
       "      <td>...</td>\n",
       "      <td>0.000000</td>\n",
       "      <td>0.000000</td>\n",
       "      <td>0.000000</td>\n",
       "      <td>0.000000</td>\n",
       "      <td>0.000000</td>\n",
       "      <td>0.891522</td>\n",
       "      <td>1.224845</td>\n",
       "      <td>0.974358</td>\n",
       "      <td>0.974768</td>\n",
       "      <td>0.966134</td>\n",
       "    </tr>\n",
       "    <tr>\n",
       "      <th>Firm 73</th>\n",
       "      <td>5952.075574</td>\n",
       "      <td>642.030799</td>\n",
       "      <td>11615.851280</td>\n",
       "      <td>14800.729495</td>\n",
       "      <td>5655.803588</td>\n",
       "      <td>268.024337</td>\n",
       "      <td>1679.951222</td>\n",
       "      <td>2084.662096</td>\n",
       "      <td>2927.300994</td>\n",
       "      <td>3490.682633</td>\n",
       "      <td>...</td>\n",
       "      <td>0.000000</td>\n",
       "      <td>0.000000</td>\n",
       "      <td>1.364540</td>\n",
       "      <td>0.915093</td>\n",
       "      <td>1.062282</td>\n",
       "      <td>0.898168</td>\n",
       "      <td>0.460307</td>\n",
       "      <td>0.898017</td>\n",
       "      <td>0.924995</td>\n",
       "      <td>0.806108</td>\n",
       "    </tr>\n",
       "    <tr>\n",
       "      <th>Firm 151</th>\n",
       "      <td>-1750.945505</td>\n",
       "      <td>7626.419094</td>\n",
       "      <td>7867.158206</td>\n",
       "      <td>9028.414622</td>\n",
       "      <td>8180.387573</td>\n",
       "      <td>44.357219</td>\n",
       "      <td>1237.097548</td>\n",
       "      <td>1165.127109</td>\n",
       "      <td>1409.125498</td>\n",
       "      <td>1527.871049</td>\n",
       "      <td>...</td>\n",
       "      <td>-0.490269</td>\n",
       "      <td>-0.330262</td>\n",
       "      <td>-4.969472</td>\n",
       "      <td>-0.443054</td>\n",
       "      <td>0.100372</td>\n",
       "      <td>-0.225824</td>\n",
       "      <td>0.938586</td>\n",
       "      <td>0.974094</td>\n",
       "      <td>0.982546</td>\n",
       "      <td>0.980669</td>\n",
       "    </tr>\n",
       "  </tbody>\n",
       "</table>\n",
       "<p>10 rows × 90 columns</p>\n",
       "</div>"
      ],
      "text/plain": [
       "             NWP (£m)                                             \\\n",
       "                2016YE        2017YE        2018YE        2019YE   \n",
       "Firm 210  27889.340758  38199.311256  48117.993733  44638.769640   \n",
       "Firm 4    22344.199923  23963.910709  25760.390158  25512.748836   \n",
       "Firm 26   45309.838702   7239.360829   7616.755563  10450.175547   \n",
       "Firm 247  13377.534020  24031.377272  22475.773945  10624.480076   \n",
       "Firm 34    6817.399238   5780.781140   4497.979967   -181.612136   \n",
       "Firm 105  31275.650872  11614.626226    -78.413307  10739.237658   \n",
       "Firm 311  -1862.240506   9777.534671  12009.157860  12719.398352   \n",
       "Firm 7     5855.172823  11688.570412   9414.976495  10975.189662   \n",
       "Firm 73    5952.075574    642.030799  11615.851280  14800.729495   \n",
       "Firm 151  -1750.945505   7626.419094   7867.158206   9028.414622   \n",
       "\n",
       "                            SCR (£m)                              \\\n",
       "                2020YE        2016YE        2017YE        2018YE   \n",
       "Firm 210  40135.692258    156.356311    253.133517    267.587277   \n",
       "Firm 4    24996.021042  16573.644800  16332.748800  17103.616000   \n",
       "Firm 26   10489.248083     13.010998   2615.457124   2647.668242   \n",
       "Firm 247   9961.520679      6.679933     28.699002     14.423490   \n",
       "Firm 34    8145.617320     70.971011   7076.519747   6783.113294   \n",
       "Firm 105   4641.248617    154.592562  13872.860127   8970.442719   \n",
       "Firm 311  10830.966262      0.971873   8883.247499   7935.936281   \n",
       "Firm 7     8359.905292      0.000000   4042.827472   4313.755092   \n",
       "Firm 73    5655.803588    268.024337   1679.951222   2084.662096   \n",
       "Firm 151   8180.387573     44.357219   1237.097548   1165.127109   \n",
       "\n",
       "                                      ... Gross combined ratio            \\\n",
       "                2019YE        2020YE  ...               2016YE    2017YE   \n",
       "Firm 210    342.361395    418.388173  ...             0.871992  1.105867   \n",
       "Firm 4    17219.246080  19600.262144  ...             0.848032  1.474778   \n",
       "Firm 26    2719.948271   2369.903562  ...             0.829502  1.017688   \n",
       "Firm 247     10.398542     10.106735  ...             0.585406  0.321478   \n",
       "Firm 34    6328.086220   6443.117305  ...             0.000000  2.819749   \n",
       "Firm 105   9390.562212   9637.507832  ...             0.811751  0.982502   \n",
       "Firm 311   7918.799911   8655.247077  ...             0.000000  0.000000   \n",
       "Firm 7     4106.815583   4497.938625  ...             0.000000  0.000000   \n",
       "Firm 73    2927.300994   3490.682633  ...             0.000000  0.000000   \n",
       "Firm 151   1409.125498   1527.871049  ...            -0.490269 -0.330262   \n",
       "\n",
       "                                          NWP_GWP                      \\\n",
       "            2018YE    2019YE     2020YE    2016YE    2017YE    2018YE   \n",
       "Firm 210  0.969446  0.883016   0.998139  1.000000  1.000000  1.000000   \n",
       "Firm 4    1.727968  1.208823 -10.736084  0.759372  0.727603  0.718207   \n",
       "Firm 26   0.879597  0.941402   0.948690  1.000000  1.000000  1.000000   \n",
       "Firm 247  0.290755  0.262802   0.366671  0.984380  0.992923  0.990343   \n",
       "Firm 34   1.235272  1.043209   1.635144  0.777133  0.460618  0.261289   \n",
       "Firm 105  0.920198  0.942037   0.903999  0.980790  0.896902 -0.006083   \n",
       "Firm 311  1.002591  0.871170   0.918942 -0.842274  0.850692  0.725460   \n",
       "Firm 7    0.000000  0.000000   0.000000  0.891522  1.224845  0.974358   \n",
       "Firm 73   1.364540  0.915093   1.062282  0.898168  0.460307  0.898017   \n",
       "Firm 151 -4.969472 -0.443054   0.100372 -0.225824  0.938586  0.974094   \n",
       "\n",
       "                              \n",
       "            2019YE    2020YE  \n",
       "Firm 210  1.000000  1.000000  \n",
       "Firm 4    0.706031  0.715753  \n",
       "Firm 26   1.000000  1.000000  \n",
       "Firm 247  1.000000  1.000000  \n",
       "Firm 34  -0.008761  0.397139  \n",
       "Firm 105  0.980164  0.798610  \n",
       "Firm 311  0.669849  0.564701  \n",
       "Firm 7    0.974768  0.966134  \n",
       "Firm 73   0.924995  0.806108  \n",
       "Firm 151  0.982546  0.980669  \n",
       "\n",
       "[10 rows x 90 columns]"
      ]
     },
     "execution_count": 211,
     "metadata": {},
     "output_type": "execute_result"
    }
   ],
   "source": [
    "df = clean_column(df, 'GWP (£m)')\n",
    "df"
   ]
  },
  {
   "cell_type": "markdown",
   "id": "376b115f",
   "metadata": {},
   "source": [
    "### select data\n",
    "#### 1 GWP"
   ]
  },
  {
   "cell_type": "code",
   "execution_count": 230,
   "id": "0846701f",
   "metadata": {},
   "outputs": [],
   "source": [
    "# select the largest n rows based on mean values\n",
    "def get_large(df, column_name, n):\n",
    "    col = column_name\n",
    "    df_mean = df[[col]].mean(axis=1).to_frame(name = 'mean') # create mean df\n",
    "    df_large = df_mean.nlargest(n, 'mean') # select largest \n",
    "    df_large_selected = df.loc[df_large.index] # select from df\n",
    "    return df_large_selected"
   ]
  },
  {
   "cell_type": "code",
   "execution_count": 231,
   "id": "5478ca1d",
   "metadata": {},
   "outputs": [],
   "source": [
    "df = get_large(df, 'GWP (£m)', 10)"
   ]
  },
  {
   "cell_type": "code",
   "execution_count": 232,
   "id": "a8b89b5f",
   "metadata": {},
   "outputs": [],
   "source": [
    "def plot_xfirm(df, ylog, ymin, ymax):\n",
    "    fig, ax = plt.subplots(figsize=(6, 4))\n",
    "    ax = df.T.boxplot()\n",
    "    ax.set_ylabel(df.columns[0][0])\n",
    "    \n",
    "    if ymin == None and ymax == None:\n",
    "        pass\n",
    "    else:\n",
    "        ax.set_ylim([ymin, ymax])\n",
    "    \n",
    "    if ylog == True:\n",
    "        ax.set_yscale('log')\n",
    "        \n",
    "    plt.xticks(rotation=90)\n",
    "    plt.title(df.columns[0][0])\n",
    "    plt.tight_layout()\n",
    "    plt.savefig('fig_' + str(df.columns[0][0]) + '.png', dpi=900)\n",
    "    plt.show()"
   ]
  },
  {
   "cell_type": "code",
   "execution_count": 233,
   "id": "249c0501",
   "metadata": {},
   "outputs": [
    {
     "data": {
      "image/png": "[encoded data removed]",
      "text/plain": [
       "<Figure size 432x288 with 1 Axes>"
      ]
     },
     "metadata": {
      "needs_background": "light"
     },
     "output_type": "display_data"
    }
   ],
   "source": [
    "plot_xfirm(df[['GWP (£m)']], ylog=True, ymin=1e3, ymax=1e5)"
   ]
  },
  {
   "cell_type": "markdown",
   "id": "0e2ed9fa",
   "metadata": {},
   "source": [
    "#### 2 SCR coverage ratio"
   ]
  },
  {
   "cell_type": "code",
   "execution_count": 234,
   "id": "fe27367e",
   "metadata": {},
   "outputs": [
    {
     "data": {
      "image/png": "[encoded data removed]",
      "text/plain": [
       "<Figure size 432x288 with 1 Axes>"
      ]
     },
     "metadata": {
      "needs_background": "light"
     },
     "output_type": "display_data"
    }
   ],
   "source": [
    "plot_xfirm(df[['SCR coverage ratio']], ylog=True, ymin=1e0, ymax=1.1e1)\n",
    "#df"
   ]
  },
  {
   "cell_type": "markdown",
   "id": "964b48e6",
   "metadata": {},
   "source": [
    "#### 3 NWP/GWP"
   ]
  },
  {
   "cell_type": "code",
   "execution_count": 242,
   "id": "2cf1c810",
   "metadata": {},
   "outputs": [],
   "source": [
    "def plot_combined(df1, df2, xlog, ylog, xmin, xmax, ymin, ymax):\n",
    "    fig, ax = plt.subplots(figsize=(6, 4))\n",
    "    for index in df1.index:\n",
    "        ax.scatter(df1.loc[index], df2.loc[index], label=index)\n",
    "    \n",
    "    ax.fill_between((0, df1.max().max()), 0, 1, color = 'grey', alpha=0.3)\n",
    "    \n",
    "    if xmin == None and xmax == None:\n",
    "        pass\n",
    "    else:\n",
    "        ax.set_xlim([xmin, xmax])\n",
    "    \n",
    "    if ymin == None and ymax == None:\n",
    "        pass\n",
    "    else:\n",
    "        ax.set_ylim([ymin, ymax])\n",
    "    \n",
    "    if xlog == True:\n",
    "        ax.set_xscale('log')\n",
    "    if ylog == True:\n",
    "        ax.set_yscale('log')\n",
    "    \n",
    "    ax.set_xlabel(df1.columns[0][0])\n",
    "    ax.set_ylabel(df2.columns[0][0])\n",
    "\n",
    "    plt.legend(bbox_to_anchor=(0,1.02,1,0.2), loc='lower left', mode=\"expand\", borderaxespad=0, ncol=3)\n",
    "    plt.tight_layout()\n",
    "    plt.savefig('fig_comb_'+ str(df1.columns[0][0]) + str(df2.columns[0][0]) + '.png', dpi=900)\n",
    "    plt.show()"
   ]
  },
  {
   "cell_type": "code",
   "execution_count": 244,
   "id": "9887d30c",
   "metadata": {},
   "outputs": [
    {
     "data": {
      "image/png": "[encoded data removed]",
      "text/plain": [
       "<Figure size 432x288 with 1 Axes>"
      ]
     },
     "metadata": {
      "needs_background": "light"
     },
     "output_type": "display_data"
    }
   ],
   "source": [
    "plot_combined(df[['GWP (£m)']], df[['NWP_GWP']], xlog=False, ylog=False, xmin=None, xmax=None, ymin=-0.1, ymax=1.1)"
   ]
  },
  {
   "cell_type": "code",
   "execution_count": 245,
   "id": "9c3ce2db",
   "metadata": {},
   "outputs": [
    {
     "name": "stdout",
     "output_type": "stream",
     "text": [
      "('NWP_GWP', '2020YE') Firm 210    1.000000\n",
      "Firm 4      0.725393\n",
      "Firm 26     1.000000\n",
      "Firm 247    0.993529\n",
      "Firm 34     0.377484\n",
      "Firm 105    0.730077\n",
      "Firm 311    0.393685\n",
      "Firm 7      1.006325\n",
      "Firm 73     0.797519\n",
      "Firm 151    0.730014\n",
      "dtype: float64\n"
     ]
    }
   ],
   "source": [
    "df[['NWP_GWP']]\n",
    "print (index, df['NWP_GWP'].mean(axis=1))"
   ]
  },
  {
   "cell_type": "markdown",
   "id": "927b55dc",
   "metadata": {},
   "source": [
    "#### 4 Gross claims incurred"
   ]
  },
  {
   "cell_type": "code",
   "execution_count": 246,
   "id": "e6d6b97a",
   "metadata": {},
   "outputs": [],
   "source": [
    "def plot_xyear(df, ylog, ymin, ymax):\n",
    "    fig, ax = plt.subplots(figsize=(6, 4))\n",
    "    \n",
    "    year = ['2016', '2017', '2018', '2019', '2020']\n",
    "    ax.set_xlabel('Year')\n",
    "    ax.set_ylabel(df.columns[0][0])\n",
    "    \n",
    "    for index in df.index:\n",
    "        ax.plot(year, df.loc[index], marker = 'o', label=index)\n",
    "\n",
    "    if ymin == None and ymax == None:\n",
    "        pass\n",
    "    else:\n",
    "        ax.set_ylim([ymin, ymax])\n",
    "    \n",
    "    if ylog == True:\n",
    "        ax.set_yscale('log')    \n",
    "        \n",
    "    plt.xticks()\n",
    "    plt.title(df.columns[0][0])\n",
    "    plt.legend(bbox_to_anchor=(1.04,0.5), loc=\"center left\", borderaxespad=0)\n",
    "    plt.tight_layout()\n",
    "    plt.savefig('fig_' + str(df.columns[0][0]) + '.png', dpi=900)\n",
    "    plt.show()"
   ]
  },
  {
   "cell_type": "code",
   "execution_count": 247,
   "id": "31e1c7f1",
   "metadata": {},
   "outputs": [
    {
     "data": {
      "image/png": "[encoded data removed]",
      "text/plain": [
       "<Figure size 432x288 with 1 Axes>"
      ]
     },
     "metadata": {
      "needs_background": "light"
     },
     "output_type": "display_data"
    }
   ],
   "source": [
    "plot_xyear(df[['Gross claims incurred (£m)']], ylog=False, ymin=None, ymax=None)"
   ]
  },
  {
   "cell_type": "code",
   "execution_count": 249,
   "id": "1b914d0b",
   "metadata": {},
   "outputs": [
    {
     "name": "stdout",
     "output_type": "stream",
     "text": [
      "('NWP_GWP', '2020YE') Firm 210     472.028589\n",
      "Firm 4        50.908223\n",
      "Firm 26      258.980863\n",
      "Firm 247       3.130778\n",
      "Firm 34        7.546265\n",
      "Firm 105    2314.729370\n",
      "Firm 311       9.714746\n",
      "Firm 7         0.000000\n",
      "Firm 73       43.328387\n",
      "Firm 151     -26.314840\n",
      "dtype: float64\n"
     ]
    }
   ],
   "source": [
    "df[['Gross claims incurred (£m)']]\n",
    "print (index, df['Gross claims incurred (£m)'].mean(axis=1))"
   ]
  },
  {
   "cell_type": "markdown",
   "id": "6581f0e6",
   "metadata": {},
   "source": [
    "#### 5 Net combined ratio"
   ]
  },
  {
   "cell_type": "code",
   "execution_count": 251,
   "id": "5841c660",
   "metadata": {},
   "outputs": [
    {
     "data": {
      "image/png": "[encoded data removed]",
      "text/plain": [
       "<Figure size 432x288 with 1 Axes>"
      ]
     },
     "metadata": {
      "needs_background": "light"
     },
     "output_type": "display_data"
    }
   ],
   "source": [
    "plot_combined(df[['NWP (£m) ']], df[['Net combined ratio']], xlog=True, ylog=False, xmin=None, xmax=None, ymin=-0.1, ymax=1.1)"
   ]
  },
  {
   "cell_type": "code",
   "execution_count": 256,
   "id": "349f8211",
   "metadata": {},
   "outputs": [
    {
     "name": "stdout",
     "output_type": "stream",
     "text": [
      "('NWP_GWP', '2020YE') Firm 210    0.991838\n",
      "Firm 4      0.816866\n",
      "Firm 26     0.995523\n",
      "Firm 247    0.365685\n",
      "Firm 34     1.514595\n",
      "Firm 105    0.971920\n",
      "Firm 311    0.593014\n",
      "Firm 7      0.000000\n",
      "Firm 73     0.698062\n",
      "Firm 151   -0.589256\n",
      "dtype: float64          Net combined ratio                                        \n",
      "                     2016YE    2017YE    2018YE    2019YE    2020YE\n",
      "Firm 210           0.909770  1.053698  1.055496  0.897656  1.042572\n",
      "Firm 4             1.080209  1.707291  2.119041  2.586257 -3.408470\n",
      "Firm 26            0.909373  1.028087  1.027733  0.961812  1.050612\n",
      "Firm 247           0.585713  0.321801  0.290942  0.262546  0.367423\n",
      "Firm 34            0.000000  3.097137  1.511077  1.309232  1.655531\n",
      "Firm 105           0.878167  1.007967  0.988511  0.985311  0.999644\n",
      "Firm 311           0.000000  0.000000  1.002591  0.975659  0.986822\n",
      "Firm 7             0.000000  0.000000  0.000000  0.000000  0.000000\n",
      "Firm 73            0.000000  0.000000  1.433751  0.944492  1.112066\n",
      "Firm 151          -0.400733 -0.231944 -2.013885 -0.418207  0.118491\n"
     ]
    }
   ],
   "source": [
    "df[['Net combined ratio']]\n",
    "print (index, df['Net combined ratio'].mean(axis=1), df[['Net combined ratio']])"
   ]
  },
  {
   "cell_type": "code",
   "execution_count": null,
   "id": "183892fc",
   "metadata": {},
   "outputs": [],
   "source": []
  }
 ],
 "metadata": {
  "kernelspec": {
   "display_name": "Python 3 (ipykernel)",
   "language": "python",
   "name": "python3"
  },
  "language_info": {
   "codemirror_mode": {
    "name": "ipython",
    "version": 3
   },
   "file_extension": ".py",
   "mimetype": "text/x-python",
   "name": "python",
   "nbconvert_exporter": "python",
   "pygments_lexer": "ipython3",
   "version": "3.9.7"
  }
 },
 "nbformat": 4,
 "nbformat_minor": 5
}
